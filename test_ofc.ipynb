{
 "cells": [
  {
   "attachments": {},
   "cell_type": "markdown",
   "metadata": {},
   "source": [
    "## 匯入套件"
   ]
  },
  {
   "cell_type": "code",
   "execution_count": 1,
   "metadata": {},
   "outputs": [],
   "source": [
    "from treys import Card, evaluator, lookup, Deck\n",
    "from rlofc import ofc_environment, ofc_evaluator, royalty_calculator, ofc_board\n",
    "import random\n",
    "import itertools"
   ]
  },
  {
   "cell_type": "code",
   "execution_count": 89,
   "metadata": {},
   "outputs": [
    {
     "name": "stdout",
     "output_type": "stream",
     "text": [
      "牌型分數: 1741.888889\n"
     ]
    }
   ],
   "source": [
    "# 建立 OFC evaluator 物件\n",
    "evaluator = ofc_evaluator.OFCEvaluator()\n",
    "\n",
    "# 測試資料\n",
    "hand = [\n",
    "    Card.new('Kh'),  # 前墩第一張牌\n",
    "    Card.new('Ks'),  # 前墩第二張牌\n",
    "    Card.new('Kc'),  # 中墩第一張牌\n",
    "    # Card.new('Ts'),  # 中墩第二張牌\n",
    "    # Card.new('Th'),  # 中墩第三張牌\n",
    "]\n",
    "\n",
    "# 評估牌型\n",
    "score = evaluator.evaluate([],hand)\n",
    "print(f\"牌型分數: {score}\")"
   ]
  },
  {
   "cell_type": "code",
   "execution_count": 110,
   "metadata": {},
   "outputs": [
    {
     "data": {
      "text/plain": [
       "3545.8788"
      ]
     },
     "execution_count": 110,
     "metadata": {},
     "output_type": "execute_result"
    }
   ],
   "source": [
    "front = ofc_board.OFCBoard()\n",
    "for i in ['Ah', 'As','2c']:\n",
    "    front.front.add_card(i)\n",
    "front.front.get_rank()"
   ]
  },
  {
   "cell_type": "code",
   "execution_count": 94,
   "metadata": {},
   "outputs": [],
   "source": []
  },
  {
   "cell_type": "code",
   "execution_count": 4,
   "metadata": {},
   "outputs": [],
   "source": [
    "def fantasy_evaluator(cards):\n",
    "    def evaluate_by_street(cards, num_street_cards):\n",
    "        # solve back line first\n",
    "        minimum = lookup.LookupTable.MAX_HIGH_CARD\n",
    "        i = 0\n",
    "        for combo in itertools.combinations(cards, num_street_cards):\n",
    "            if i == 0:\n",
    "                final_comb = combo\n",
    "\n",
    "            score = evaluator.evaluate([], list(combo))\n",
    "\n",
    "            if score < minimum:\n",
    "                final_comb = combo\n",
    "                minimum = score\n",
    "                print(score)\n",
    "                Card.print_pretty_cards(final_comb)\n",
    "            \n",
    "            i +=1\n",
    "\n",
    "        return minimum, final_comb\n",
    "\n",
    "    # Solve problem from front -> back - > middle    \n",
    "    ## Front Line\n",
    "    front_score, front_comb = evaluate_by_street(cards, 3)\n",
    "    \n",
    "    ## Back Line\n",
    "    back_line = list(set(cards) - set(front_comb))\n",
    "    back_score, back_comb = evaluate_by_street(back_line, 5)\n",
    "\n",
    "    ## Middle Line\n",
    "    mid_line = list(set(back_line) - set(back_comb))\n",
    "    mid_score, mid_comb = evaluate_by_street(mid_line, 5)\n",
    "    \n",
    "\n",
    "    if back_score > mid_score and mid_score > front_score:\n",
    "        print('step into fantasy zone')\n",
    "\n",
    "    else:\n",
    "        # Solve problem from back -> middle - > front\n",
    "        ## Back Line\n",
    "        back_score, back_comb = evaluate_by_street(cards, 5)\n",
    "\n",
    "        ## Middle Line\n",
    "        mid_line = list(set(cards) - set(back_comb))\n",
    "        mid_score, mid_comb = evaluate_by_street(mid_line, 5)\n",
    "\n",
    "        ## Front Line\n",
    "        mid_line = list(set(mid_line) - set(mid_comb))\n",
    "        front_score, front_comb = evaluate_by_street(cards, 3)\n",
    "        \n",
    "        \n",
    "\n",
    "        \n",
    "\n",
    "\n",
    "        \n"
   ]
  },
  {
   "cell_type": "code",
   "execution_count": 6,
   "metadata": {},
   "outputs": [],
   "source": [
    "deck = Deck()\n",
    "full_hand = deck.draw(17)"
   ]
  },
  {
   "cell_type": "code",
   "execution_count": 7,
   "metadata": {},
   "outputs": [
    {
     "name": "stdout",
     "output_type": "stream",
     "text": [
      " [8♣],[3♣],[3♦],[3♥],[T♦],[J♦],[4♥],[3♠],[Q♥],[4♠],[9♥],[9♠],[Q♣],[2♥],[K♥],[7♣],[J♣] \n"
     ]
    }
   ],
   "source": [
    "Card.print_pretty_cards(full_hand)"
   ]
  },
  {
   "cell_type": "code",
   "execution_count": 67,
   "metadata": {},
   "outputs": [
    {
     "name": "stdout",
     "output_type": "stream",
     "text": [
      "7001.889497\n",
      " [5♦],[K♥],[7♠] \n",
      "5405.889697\n",
      " [5♦],[K♥],[5♣] \n",
      "3764.888897\n",
      " [5♦],[K♥],[K♦] \n",
      "3755.888895\n",
      " [K♥],[7♠],[K♦] \n",
      "3709.888892\n",
      " [K♥],[T♦],[K♦] \n",
      "3600.878889\n",
      " [K♥],[K♦],[A♣] \n"
     ]
    }
   ],
   "source": [
    "# solve back line first\n",
    "minimum = lookup.LookupTable.MAX_HIGH_CARD\n",
    "i = 0\n",
    "\n",
    "for combo in itertools.combinations(full_hand, 3):\n",
    "    if i == 0:\n",
    "        final_comb = combo\n",
    "\n",
    "    score = evaluator.evaluate([], list(combo))\n",
    "\n",
    "    if score < minimum:\n",
    "        final_comb = combo\n",
    "        minimum = score\n",
    "        print(score)\n",
    "        Card.print_pretty_cards(final_comb)\n",
    "    \n",
    "    i +=1"
   ]
  },
  {
   "cell_type": "code",
   "execution_count": 68,
   "metadata": {},
   "outputs": [
    {
     "name": "stdout",
     "output_type": "stream",
     "text": [
      " [K♥],[K♦],[A♣] \n"
     ]
    }
   ],
   "source": [
    "Card.print_pretty_cards(final_comb)"
   ]
  },
  {
   "cell_type": "code",
   "execution_count": 69,
   "metadata": {},
   "outputs": [],
   "source": [
    "mid_line = list(set(full_hand) - set(final_comb))"
   ]
  },
  {
   "cell_type": "code",
   "execution_count": 70,
   "metadata": {},
   "outputs": [
    {
     "name": "stdout",
     "output_type": "stream",
     "text": [
      "5523\n",
      " [2♣],[4♠],[5♣],[5♦],[6♥] \n",
      "5520\n",
      " [2♣],[4♠],[5♣],[5♦],[7♠] \n",
      "5514\n",
      " [2♣],[4♠],[5♣],[5♦],[8♥] \n",
      "5504\n",
      " [2♣],[4♠],[5♣],[5♦],[9♥] \n",
      "5489\n",
      " [2♣],[4♠],[5♣],[5♦],[T♣] \n",
      "5468\n",
      " [2♣],[4♠],[5♣],[5♦],[J♦] \n",
      "5440\n",
      " [2♣],[4♠],[5♣],[5♦],[Q♦] \n",
      "5083\n",
      " [2♣],[4♠],[5♣],[7♠],[7♦] \n",
      "4423\n",
      " [2♣],[4♠],[5♣],[T♣],[T♦] \n",
      "3983\n",
      " [2♣],[4♠],[5♣],[Q♦],[Q♣] \n",
      "3980\n",
      " [2♣],[4♠],[6♥],[Q♦],[Q♣] \n",
      "3974\n",
      " [2♣],[4♠],[7♠],[Q♦],[Q♣] \n",
      "3964\n",
      " [2♣],[4♠],[8♥],[Q♦],[Q♣] \n",
      "3949\n",
      " [2♣],[4♠],[9♥],[Q♦],[Q♣] \n",
      "3928\n",
      " [2♣],[4♠],[T♣],[Q♦],[Q♣] \n",
      "3900\n",
      " [2♣],[4♠],[J♦],[Q♦],[Q♣] \n",
      "3182\n",
      " [2♣],[5♣],[5♦],[7♠],[7♦] \n",
      "2984\n",
      " [2♣],[5♣],[5♦],[T♣],[T♦] \n",
      "2797\n",
      " [2♣],[5♣],[5♦],[Q♦],[Q♣] \n",
      "2775\n",
      " [2♣],[7♠],[7♦],[Q♦],[Q♣] \n",
      "2742\n",
      " [2♣],[T♣],[T♦],[Q♦],[Q♣] \n",
      "1606\n",
      " [4♠],[5♣],[6♥],[7♠],[8♥] \n",
      "1605\n",
      " [5♣],[6♥],[7♠],[8♥],[9♥] \n",
      "1158\n",
      " [5♦],[7♦],[T♦],[J♦],[Q♦] \n"
     ]
    }
   ],
   "source": [
    "# solve back line first\n",
    "minimum = lookup.LookupTable.MAX_HIGH_CARD\n",
    "i = 0\n",
    "\n",
    "for combo in itertools.combinations(mid_line, 5):\n",
    "    if i == 0:\n",
    "        final_comb = combo\n",
    "\n",
    "    score = evaluator.evaluate([], list(combo))\n",
    "\n",
    "    if score < minimum:\n",
    "        final_comb = combo\n",
    "        minimum = score\n",
    "        print(score)\n",
    "        Card.print_pretty_cards(final_comb)\n",
    "    \n",
    "    i +=1"
   ]
  },
  {
   "cell_type": "code",
   "execution_count": 75,
   "metadata": {},
   "outputs": [],
   "source": [
    "back_line = list(set(mid_line) - set(final_comb))"
   ]
  },
  {
   "cell_type": "code",
   "execution_count": 76,
   "metadata": {},
   "outputs": [
    {
     "name": "stdout",
     "output_type": "stream",
     "text": [
      "7459\n",
      " [2♣],[4♠],[5♣],[6♥],[7♠] \n",
      "7455\n",
      " [2♣],[4♠],[5♣],[6♥],[8♥] \n",
      "7441\n",
      " [2♣],[4♠],[5♣],[6♥],[9♥] \n",
      "7407\n",
      " [2♣],[4♠],[5♣],[6♥],[T♣] \n",
      "7213\n",
      " [2♣],[4♠],[5♣],[6♥],[Q♣] \n",
      "7209\n",
      " [2♣],[4♠],[5♣],[7♠],[Q♣] \n",
      "7199\n",
      " [2♣],[4♠],[5♣],[8♥],[Q♣] \n",
      "7179\n",
      " [2♣],[4♠],[5♣],[9♥],[Q♣] \n",
      "7144\n",
      " [2♣],[4♠],[5♣],[T♣],[Q♣] \n",
      "7141\n",
      " [2♣],[4♠],[6♥],[T♣],[Q♣] \n",
      "7135\n",
      " [2♣],[4♠],[7♠],[T♣],[Q♣] \n",
      "7125\n",
      " [2♣],[4♠],[8♥],[T♣],[Q♣] \n",
      "7110\n",
      " [2♣],[4♠],[9♥],[T♣],[Q♣] \n",
      "7108\n",
      " [2♣],[5♣],[9♥],[T♣],[Q♣] \n",
      "7105\n",
      " [2♣],[6♥],[9♥],[T♣],[Q♣] \n",
      "7101\n",
      " [2♣],[7♠],[9♥],[T♣],[Q♣] \n",
      "7096\n",
      " [2♣],[8♥],[9♥],[T♣],[Q♣] \n",
      "1606\n",
      " [4♠],[5♣],[6♥],[7♠],[8♥] \n",
      "1605\n",
      " [5♣],[6♥],[7♠],[8♥],[9♥] \n",
      "1604\n",
      " [6♥],[7♠],[8♥],[9♥],[T♣] \n"
     ]
    }
   ],
   "source": [
    "# solve back line first\n",
    "minimum = lookup.LookupTable.MAX_HIGH_CARD\n",
    "i = 0\n",
    "\n",
    "for combo in itertools.combinations(back_line, 5):\n",
    "    if i == 0:\n",
    "        final_comb = combo\n",
    "\n",
    "    score = evaluator.evaluate([], list(combo))\n",
    "\n",
    "    if score < minimum:\n",
    "        final_comb = combo\n",
    "        minimum = score\n",
    "        print(score)\n",
    "        Card.print_pretty_cards(final_comb)\n",
    "    \n",
    "    i +=1"
   ]
  },
  {
   "attachments": {},
   "cell_type": "markdown",
   "metadata": {},
   "source": [
    "## 測試ofc environment\n"
   ]
  },
  {
   "cell_type": "code",
   "execution_count": 18,
   "metadata": {},
   "outputs": [
    {
     "name": "stdout",
     "output_type": "stream",
     "text": [
      "Front:\n",
      " [Q♠],[J♠],[5♥] \n",
      "Mid:\n",
      " \n",
      "Back:\n",
      " [9♠],[4♠] \n",
      "Front:\n",
      " [Q♣],[K♥],[4♦] \n",
      "Mid:\n",
      " [3♠],[3♥] \n",
      "Back:\n",
      " \n",
      "Front:\n",
      " [Q♠],[J♠],[5♥] \n",
      "Mid:\n",
      " \n",
      "Back:\n",
      " [9♠],[4♠] \n",
      "Front:\n",
      " [Q♣],[K♥],[4♦] \n",
      "Mid:\n",
      " [3♠],[3♥],[7♠] \n",
      "Back:\n",
      " [A♦] \n",
      "Front:\n",
      " [Q♠],[J♠],[5♥] \n",
      "Mid:\n",
      " [8♠],[4♥] \n",
      "Back:\n",
      " [9♠],[4♠] \n",
      "Front:\n",
      " [Q♣],[K♥],[4♦] \n",
      "Mid:\n",
      " [3♠],[3♥],[7♠] \n",
      "Back:\n",
      " [A♦] \n",
      "Front:\n",
      " [Q♠],[J♠],[5♥] \n",
      "Mid:\n",
      " [8♠],[4♥] \n",
      "Back:\n",
      " [9♠],[4♠] \n",
      "Front:\n",
      " [Q♣],[K♥],[4♦] \n",
      "Mid:\n",
      " [3♠],[3♥],[7♠],[Q♦] \n",
      "Back:\n",
      " [A♦],[2♣] \n",
      "Front:\n",
      " [Q♠],[J♠],[5♥] \n",
      "Mid:\n",
      " [8♠],[4♥] \n",
      "Back:\n",
      " [9♠],[4♠],[8♣],[A♥] \n",
      "Front:\n",
      " [Q♣],[K♥],[4♦] \n",
      "Mid:\n",
      " [3♠],[3♥],[7♠],[Q♦] \n",
      "Back:\n",
      " [A♦],[2♣] \n",
      "Unexpected exception formatting exception. Falling back to standard exception\n"
     ]
    },
    {
     "name": "stderr",
     "output_type": "stream",
     "text": [
      "Traceback (most recent call last):\n",
      "  File \"c:\\Users\\User\\anaconda3\\envs\\tensorflow\\lib\\site-packages\\IPython\\core\\interactiveshell.py\", line 3505, in run_code\n",
      "    exec(code_obj, self.user_global_ns, self.user_ns)\n",
      "  File \"C:\\Users\\User\\AppData\\Local\\Temp\\ipykernel_24384\\2186708289.py\", line 6, in <module>\n",
      "    env.step(decision)\n",
      "  File \"c:\\Users\\User\\Desktop\\ofc_AI\\OFCDQN\\rlofc\\ofc_environment.py\", line 245, in step\n",
      "  File \"c:\\Users\\User\\Desktop\\ofc_AI\\OFCDQN\\rlofc\\ofc_environment.py\", line 300, in execute_opponent_turn\n",
      "    oppo_card = self.oppo_cards.pop()\n",
      "  File \"c:\\Users\\User\\Desktop\\ofc_AI\\OFCDQN\\rlofc\\ofc_board.py\", line 90, in place_card_by_id\n",
      "    if street_id == 1:\n",
      "  File \"c:\\Users\\User\\Desktop\\ofc_AI\\OFCDQN\\rlofc\\ofc_board.py\", line 21, in add_card\n",
      "    self.cards.append(Card.new(new_card_str))\n",
      "  File \"c:\\Users\\User\\anaconda3\\envs\\tensorflow\\lib\\site-packages\\treys\\card.py\", line 68, in new\n",
      "    suit_char = string[1]\n",
      "IndexError: string index out of range\n",
      "\n",
      "During handling of the above exception, another exception occurred:\n",
      "\n",
      "Traceback (most recent call last):\n",
      "  File \"c:\\Users\\User\\anaconda3\\envs\\tensorflow\\lib\\site-packages\\IPython\\core\\interactiveshell.py\", line 2102, in showtraceback\n",
      "    stb = self.InteractiveTB.structured_traceback(\n",
      "  File \"c:\\Users\\User\\anaconda3\\envs\\tensorflow\\lib\\site-packages\\IPython\\core\\ultratb.py\", line 1310, in structured_traceback\n",
      "    return FormattedTB.structured_traceback(\n",
      "  File \"c:\\Users\\User\\anaconda3\\envs\\tensorflow\\lib\\site-packages\\IPython\\core\\ultratb.py\", line 1199, in structured_traceback\n",
      "    return VerboseTB.structured_traceback(\n",
      "  File \"c:\\Users\\User\\anaconda3\\envs\\tensorflow\\lib\\site-packages\\IPython\\core\\ultratb.py\", line 1052, in structured_traceback\n",
      "    formatted_exception = self.format_exception_as_a_whole(etype, evalue, etb, number_of_lines_of_context,\n",
      "  File \"c:\\Users\\User\\anaconda3\\envs\\tensorflow\\lib\\site-packages\\IPython\\core\\ultratb.py\", line 978, in format_exception_as_a_whole\n",
      "    frames.append(self.format_record(record))\n",
      "  File \"c:\\Users\\User\\anaconda3\\envs\\tensorflow\\lib\\site-packages\\IPython\\core\\ultratb.py\", line 878, in format_record\n",
      "    frame_info.lines, Colors, self.has_colors, lvals\n",
      "  File \"c:\\Users\\User\\anaconda3\\envs\\tensorflow\\lib\\site-packages\\IPython\\core\\ultratb.py\", line 712, in lines\n",
      "    return self._sd.lines\n",
      "  File \"c:\\Users\\User\\anaconda3\\envs\\tensorflow\\lib\\site-packages\\stack_data\\utils.py\", line 144, in cached_property_wrapper\n",
      "    value = obj.__dict__[self.func.__name__] = self.func(obj)\n",
      "  File \"c:\\Users\\User\\anaconda3\\envs\\tensorflow\\lib\\site-packages\\stack_data\\core.py\", line 734, in lines\n",
      "    pieces = self.included_pieces\n",
      "  File \"c:\\Users\\User\\anaconda3\\envs\\tensorflow\\lib\\site-packages\\stack_data\\utils.py\", line 144, in cached_property_wrapper\n",
      "    value = obj.__dict__[self.func.__name__] = self.func(obj)\n",
      "  File \"c:\\Users\\User\\anaconda3\\envs\\tensorflow\\lib\\site-packages\\stack_data\\core.py\", line 681, in included_pieces\n",
      "    pos = scope_pieces.index(self.executing_piece)\n",
      "  File \"c:\\Users\\User\\anaconda3\\envs\\tensorflow\\lib\\site-packages\\stack_data\\utils.py\", line 144, in cached_property_wrapper\n",
      "    value = obj.__dict__[self.func.__name__] = self.func(obj)\n",
      "  File \"c:\\Users\\User\\anaconda3\\envs\\tensorflow\\lib\\site-packages\\stack_data\\core.py\", line 660, in executing_piece\n",
      "    return only(\n",
      "  File \"c:\\Users\\User\\anaconda3\\envs\\tensorflow\\lib\\site-packages\\executing\\executing.py\", line 190, in only\n",
      "    raise NotOneValueFound('Expected one value, found 0')\n",
      "executing.executing.NotOneValueFound: Expected one value, found 0\n"
     ]
    }
   ],
   "source": [
    "env = ofc_environment.OFCEnv(fantacy_state=[0, 0])\n",
    "my_board, oppo_board, cur_card, cards, game_over, score = env.observe()\n",
    "while not game_over:\n",
    "    if len(my_board.get_free_street_indices()) > 0:\n",
    "        decision = random.choices(my_board.get_free_street_indices(), k = 2)\n",
    "    env.step(decision)\n",
    "    my_board, oppo_board, cur_card, cards, game_over, score = env.observe()\n",
    "    my_board.pretty(), oppo_board.pretty()"
   ]
  },
  {
   "cell_type": "code",
   "execution_count": 8,
   "metadata": {},
   "outputs": [
    {
     "name": "stdout",
     "output_type": "stream",
     "text": [
      "Front:\n",
      " \n",
      "Mid:\n",
      " \n",
      "Back:\n",
      " \n",
      "Front:\n",
      " \n",
      "Mid:\n",
      " \n",
      "Back:\n",
      " \n",
      "Front:\n",
      " [3♠] \n",
      "Mid:\n",
      " [9♣],[5♥] \n",
      "Back:\n",
      " [7♠],[4♠] \n"
     ]
    }
   ],
   "source": [
    "num_opponent = 2\n",
    "if num_opponent ==2:\n",
    "    env = ofc_environment.OFCEnv(num_opponent=num_opponent, fantacy_state=[0,0,0])\n",
    "    my_board, oppo_board, oppo1_board, cur_card, my_cards, oppo_cards, oppo1_cards, my_fantasy, oppo_fantasy, oppo1_fantasy, game_over, score = env.observe()\n",
    "    my_board.pretty(), oppo_board.pretty(), oppo1_board.pretty()\n",
    "\n",
    "else:\n",
    "    env = ofc_environment.OFCEnv(num_opponent=num_opponent, fantacy_state=[0,0])\n",
    "    my_board, oppo_board, oppo1_board, cur_card, my_cards, oppo_cards, my_fantasy, oppo_fantasy, game_over, score = env.observe()\n",
    "    my_board.pretty(), oppo_board.pretty()\n"
   ]
  },
  {
   "cell_type": "code",
   "execution_count": 22,
   "metadata": {},
   "outputs": [
    {
     "ename": "IndexError",
     "evalue": "string index out of range",
     "output_type": "error",
     "traceback": [
      "\u001b[1;31m---------------------------------------------------------------------------\u001b[0m",
      "\u001b[1;31mIndexError\u001b[0m                                Traceback (most recent call last)",
      "Cell \u001b[1;32mIn[22], line 3\u001b[0m\n\u001b[0;32m      1\u001b[0m \u001b[39mif\u001b[39;00m \u001b[39mlen\u001b[39m(my_board\u001b[39m.\u001b[39mget_free_street_indices()) \u001b[39m>\u001b[39m \u001b[39m0\u001b[39m:\n\u001b[0;32m      2\u001b[0m     decision \u001b[39m=\u001b[39m random\u001b[39m.\u001b[39mchoices(my_board\u001b[39m.\u001b[39mget_free_street_indices(), k \u001b[39m=\u001b[39m \u001b[39m2\u001b[39m)\n\u001b[1;32m----> 3\u001b[0m env\u001b[39m.\u001b[39;49mstep(decision)\n\u001b[0;32m      4\u001b[0m my_board, oppo_board, oppo1_board, cur_card, my_cards, oppo_cards, oppo1_cards, my_fantasy, oppo_fantasy, oppo1_fantasy, game_over, score \u001b[39m=\u001b[39m env\u001b[39m.\u001b[39mobserve()\n\u001b[0;32m      5\u001b[0m my_board\u001b[39m.\u001b[39mpretty(), oppo_board\u001b[39m.\u001b[39mpretty(), oppo1_board\u001b[39m.\u001b[39mpretty()\n",
      "File \u001b[1;32mc:\\Users\\User\\Desktop\\ofc_AI\\OFCDQN\\rlofc\\ofc_environment.py:236\u001b[0m, in \u001b[0;36mOFCEnv.step\u001b[1;34m(self, action)\u001b[0m\n\u001b[0;32m    232\u001b[0m     \u001b[39mif\u001b[39;00m \u001b[39mself\u001b[39m\u001b[39m.\u001b[39mboard_sum(\u001b[39m0\u001b[39m) \u001b[39m==\u001b[39m \u001b[39m13\u001b[39m \u001b[39mand\u001b[39;00m \u001b[39mself\u001b[39m\u001b[39m.\u001b[39mboard_sum(\u001b[39m1\u001b[39m) \u001b[39m==\u001b[39m \u001b[39m13\u001b[39m \u001b[39mand\u001b[39;00m \u001b[39mself\u001b[39m\u001b[39m.\u001b[39mboard_sum(\u001b[39m2\u001b[39m) \u001b[39m==\u001b[39m \u001b[39m13\u001b[39m:\n\u001b[0;32m    233\u001b[0m         \u001b[39mself\u001b[39m\u001b[39m.\u001b[39mexecute_endgame()\n\u001b[1;32m--> 236\u001b[0m \u001b[39mself\u001b[39;49m\u001b[39m.\u001b[39;49mexecute_game()\n",
      "File \u001b[1;32mc:\\Users\\User\\Desktop\\ofc_AI\\OFCDQN\\rlofc\\ofc_environment.py:356\u001b[0m, in \u001b[0;36mOFCEnv.execute_game\u001b[1;34m(self)\u001b[0m\n\u001b[0;32m    353\u001b[0m \u001b[39melse\u001b[39;00m:\n\u001b[0;32m    354\u001b[0m     \u001b[39m# I go first\u001b[39;00m\n\u001b[0;32m    355\u001b[0m     \u001b[39mself\u001b[39m\u001b[39m.\u001b[39mcurrent_card \u001b[39m=\u001b[39m \u001b[39mself\u001b[39m\u001b[39m.\u001b[39mplyr_cards\n\u001b[1;32m--> 356\u001b[0m     \u001b[39mself\u001b[39;49m\u001b[39m.\u001b[39;49mexecute_my_turn()\n",
      "File \u001b[1;32mc:\\Users\\User\\Desktop\\ofc_AI\\OFCDQN\\rlofc\\ofc_environment.py:338\u001b[0m, in \u001b[0;36mOFCEnv.execute_my_turn\u001b[1;34m(self, action)\u001b[0m\n\u001b[0;32m    336\u001b[0m     plyr_action \u001b[39m=\u001b[39m random\u001b[39m.\u001b[39mchoice(free_streets)  \u001b[39m# For now!\u001b[39;00m\n\u001b[0;32m    337\u001b[0m     \u001b[39m# oppo_action = 2\u001b[39;00m\n\u001b[1;32m--> 338\u001b[0m     \u001b[39mself\u001b[39;49m\u001b[39m.\u001b[39;49mplyr_board\u001b[39m.\u001b[39;49mplace_card_by_id(plyr_card, plyr_action)\n\u001b[0;32m    340\u001b[0m \u001b[39mself\u001b[39m\u001b[39m.\u001b[39mnext_player()\n",
      "File \u001b[1;32mc:\\Users\\User\\Desktop\\ofc_AI\\OFCDQN\\rlofc\\ofc_board.py:91\u001b[0m, in \u001b[0;36mOFCBoard.place_card_by_id\u001b[1;34m(self, card, street_id)\u001b[0m\n\u001b[0;32m     89\u001b[0m     \u001b[39mself\u001b[39m\u001b[39m.\u001b[39mfront\u001b[39m.\u001b[39madd_card(card)\n\u001b[0;32m     90\u001b[0m \u001b[39mif\u001b[39;00m street_id \u001b[39m==\u001b[39m \u001b[39m1\u001b[39m:\n\u001b[1;32m---> 91\u001b[0m     \u001b[39mself\u001b[39;49m\u001b[39m.\u001b[39;49mmid\u001b[39m.\u001b[39;49madd_card(card)\n\u001b[0;32m     92\u001b[0m \u001b[39mif\u001b[39;00m street_id \u001b[39m==\u001b[39m \u001b[39m2\u001b[39m:\n\u001b[0;32m     93\u001b[0m     \u001b[39mself\u001b[39m\u001b[39m.\u001b[39mback\u001b[39m.\u001b[39madd_card(card)\n",
      "File \u001b[1;32mc:\\Users\\User\\Desktop\\ofc_AI\\OFCDQN\\rlofc\\ofc_board.py:21\u001b[0m, in \u001b[0;36mOFCHand.add_card\u001b[1;34m(self, new_card_str)\u001b[0m\n\u001b[0;32m     18\u001b[0m \u001b[39mdef\u001b[39;00m \u001b[39madd_card\u001b[39m(\u001b[39mself\u001b[39m, new_card_str):\n\u001b[0;32m     19\u001b[0m     \u001b[39m# if len(new_card_str)==1:\u001b[39;00m\n\u001b[0;32m     20\u001b[0m     \u001b[39m# print(new_card_str)\u001b[39;00m\n\u001b[1;32m---> 21\u001b[0m     \u001b[39mself\u001b[39m\u001b[39m.\u001b[39mcards\u001b[39m.\u001b[39mappend(Card\u001b[39m.\u001b[39;49mnew(new_card_str))\n",
      "File \u001b[1;32mc:\\Users\\User\\anaconda3\\envs\\tensorflow\\lib\\site-packages\\treys\\card.py:68\u001b[0m, in \u001b[0;36mCard.new\u001b[1;34m(string)\u001b[0m\n\u001b[0;32m     61\u001b[0m \u001b[39m\u001b[39m\u001b[39m\"\"\"\u001b[39;00m\n\u001b[0;32m     62\u001b[0m \u001b[39mConverts Card string to binary integer representation of card, inspired by:\u001b[39;00m\n\u001b[0;32m     63\u001b[0m \u001b[39m\u001b[39;00m\n\u001b[0;32m     64\u001b[0m \u001b[39mhttp://www.suffecool.net/poker/evaluator.html\u001b[39;00m\n\u001b[0;32m     65\u001b[0m \u001b[39m\"\"\"\u001b[39;00m\n\u001b[0;32m     67\u001b[0m rank_char \u001b[39m=\u001b[39m string[\u001b[39m0\u001b[39m]\n\u001b[1;32m---> 68\u001b[0m suit_char \u001b[39m=\u001b[39m string[\u001b[39m1\u001b[39;49m]\n\u001b[0;32m     69\u001b[0m rank_int \u001b[39m=\u001b[39m Card\u001b[39m.\u001b[39mCHAR_RANK_TO_INT_RANK[rank_char]\n\u001b[0;32m     70\u001b[0m suit_int \u001b[39m=\u001b[39m Card\u001b[39m.\u001b[39mCHAR_SUIT_TO_INT_SUIT[suit_char]\n",
      "\u001b[1;31mIndexError\u001b[0m: string index out of range"
     ]
    }
   ],
   "source": [
    "if len(my_board.get_free_street_indices()) > 0:\n",
    "    decision = random.choices(my_board.get_free_street_indices(), k = 2)\n",
    "env.step(decision)\n",
    "my_board, oppo_board, oppo1_board, cur_card, my_cards, oppo_cards, oppo1_cards, my_fantasy, oppo_fantasy, oppo1_fantasy, game_over, score = env.observe()\n",
    "my_board.pretty(), oppo_board.pretty(), oppo1_board.pretty()"
   ]
  },
  {
   "cell_type": "code",
   "execution_count": 7,
   "metadata": {},
   "outputs": [
    {
     "name": "stdout",
     "output_type": "stream",
     "text": [
      "Front:\n",
      " \n",
      "Mid:\n",
      " \n",
      "Back:\n",
      " \n",
      "Front:\n",
      " [5♣] \n",
      "Mid:\n",
      " [9♣],[8♥],[8♦],[5♠] \n",
      "Back:\n",
      " \n",
      "Front:\n",
      " [T♣],[3♣] \n",
      "Mid:\n",
      " [K♣],[4♥] \n",
      "Back:\n",
      " [K♦] \n"
     ]
    },
    {
     "data": {
      "text/plain": [
       "(None, None, None)"
      ]
     },
     "execution_count": 7,
     "metadata": {},
     "output_type": "execute_result"
    }
   ],
   "source": [
    "my_board.pretty(), oppo_board.pretty(), oppo1_board.pretty()"
   ]
  },
  {
   "cell_type": "code",
   "execution_count": 70,
   "metadata": {},
   "outputs": [
    {
     "data": {
      "text/plain": [
       "6"
      ]
     },
     "execution_count": 70,
     "metadata": {},
     "output_type": "execute_result"
    }
   ],
   "source": [
    "score"
   ]
  },
  {
   "cell_type": "code",
   "execution_count": 24,
   "metadata": {},
   "outputs": [
    {
     "data": {
      "text/plain": [
       "(13, 13)"
      ]
     },
     "execution_count": 24,
     "metadata": {},
     "output_type": "execute_result"
    }
   ],
   "source": [
    "env.board_sum(0), env.board_sum(1)"
   ]
  },
  {
   "cell_type": "code",
   "execution_count": 6,
   "metadata": {},
   "outputs": [
    {
     "name": "stdout",
     "output_type": "stream",
     "text": [
      "Front:\n",
      " [J♠],[8♠] \n",
      "Mid:\n",
      " [9♥],[6♥],[4♦] \n",
      "Back:\n",
      " [3♠] \n",
      "Front:\n",
      " \n",
      "Mid:\n",
      " \n",
      "Back:\n",
      " \n"
     ]
    },
    {
     "data": {
      "text/plain": [
       "(None, None)"
      ]
     },
     "execution_count": 6,
     "metadata": {},
     "output_type": "execute_result"
    }
   ],
   "source": [
    "my_board.pretty(), oppo_board.pretty()"
   ]
  },
  {
   "cell_type": "code",
   "execution_count": null,
   "metadata": {},
   "outputs": [],
   "source": []
  },
  {
   "cell_type": "code",
   "execution_count": 6,
   "metadata": {},
   "outputs": [
    {
     "data": {
      "text/plain": [
       "<rlofc.ofc_board.OFCHand at 0x1e0503bbfd0>"
      ]
     },
     "execution_count": 6,
     "metadata": {},
     "output_type": "execute_result"
    }
   ],
   "source": [
    "env.plyr_board.front"
   ]
  },
  {
   "cell_type": "code",
   "execution_count": 28,
   "metadata": {},
   "outputs": [],
   "source": [
    "from rlofc.rlofc import deck_generator\n",
    "deck = deck_generator.DeckGenerator.new_deck()"
   ]
  },
  {
   "cell_type": "code",
   "execution_count": 29,
   "metadata": {},
   "outputs": [
    {
     "data": {
      "text/plain": [
       "52"
      ]
     },
     "execution_count": 29,
     "metadata": {},
     "output_type": "execute_result"
    }
   ],
   "source": [
    "len(deck)"
   ]
  },
  {
   "cell_type": "code",
   "execution_count": 30,
   "metadata": {},
   "outputs": [
    {
     "data": {
      "text/plain": [
       "(['5d', '4h', '5s', 'Qd', '9d'],\n",
       " ['7d', '2h', '2d', 'Kh', 'Ks'],\n",
       " ['4c', '2c', 'As'])"
      ]
     },
     "execution_count": 30,
     "metadata": {},
     "output_type": "execute_result"
    }
   ],
   "source": [
    "deck[0:5], deck[5:10], deck[10:13]"
   ]
  },
  {
   "cell_type": "code",
   "execution_count": 32,
   "metadata": {},
   "outputs": [],
   "source": [
    "import numpy as np "
   ]
  },
  {
   "cell_type": "code",
   "execution_count": 43,
   "metadata": {},
   "outputs": [
    {
     "data": {
      "text/plain": [
       "array(['3h', 'Kd', 'Qc', '4d', '2s', '8s'], dtype='<U2')"
      ]
     },
     "execution_count": 43,
     "metadata": {},
     "output_type": "execute_result"
    }
   ],
   "source": [
    "np.random.choice(deck[13:], 6)"
   ]
  },
  {
   "cell_type": "code",
   "execution_count": 45,
   "metadata": {},
   "outputs": [
    {
     "data": {
      "text/plain": [
       "['Jh', '4d', '9s', '3d', '6c', '8h']"
      ]
     },
     "execution_count": 45,
     "metadata": {},
     "output_type": "execute_result"
    }
   ],
   "source": [
    "random.choices(deck[13:], k = 6)"
   ]
  },
  {
   "cell_type": "code",
   "execution_count": 88,
   "metadata": {},
   "outputs": [
    {
     "name": "stdout",
     "output_type": "stream",
     "text": [
      "7462\n",
      "6184\n",
      "5964\n",
      "5744\n",
      "5744\n",
      "5305\n",
      "5305\n",
      "5305\n",
      "5305\n",
      "5305\n",
      "5305\n",
      "5305\n",
      "5305\n",
      "5305\n",
      "5305\n",
      "5305\n",
      "5305\n",
      "5305\n",
      "5305\n",
      "5305\n",
      "5305\n",
      "5305\n",
      "5305\n",
      "5305\n",
      "5305\n",
      "5305\n",
      "5305\n",
      "5305\n",
      "5305\n",
      "5305\n",
      "5305\n",
      "5305\n",
      "5305\n",
      "5305\n",
      "5305\n",
      "5305\n",
      "5305\n",
      "5305\n",
      "5305\n",
      "['2c', '3c', '4c', '6c', '6s']\n"
     ]
    }
   ],
   "source": [
    "# import ofc_evaluator\n",
    "\n",
    "evaluator = ofc_evaluator.OFCEvaluator()\n",
    "\n",
    "def bigger_or_not(current_hand_list,max_hand_list):\n",
    "    current_hand_score = evaluator.evaluate([],[Card.new(i) for i in current_hand_list])\n",
    "    max_hand_score = evaluator.evaluate([],[Card.new(i) for i in max_hand_list])\n",
    "    if current_hand_score < max_hand_score:\n",
    "        return True\n",
    "    else:\n",
    "        return False\n",
    "\n",
    "def smaller_or_not(current_hand_list,limit_hand_list):\n",
    "    current_hand_score = evaluator.evaluate([],[Card.new(i) for i in current_hand_list])\n",
    "    limit_hand_score = evaluator.evaluate([],[Card.new(i) for i in limit_hand_list])\n",
    "    if current_hand_score > limit_hand_score:\n",
    "        return True\n",
    "    else:\n",
    "        return False\n",
    "\n",
    "def get_max_hand(input_hand_list,limit_hand_list):\n",
    "    hand_list = input_hand_list.copy()\n",
    "    gost_list = []\n",
    "    for hand in hand_list:\n",
    "        if(hand == 'G' or hand == 'g'):\n",
    "            gost_list.append(hand)\n",
    "\n",
    "    if 'g' in hand_list:\n",
    "        hand_list.remove(\"g\")\n",
    "    \n",
    "    if 'G' in hand_list:\n",
    "        hand_list.remove(\"G\")\n",
    "\n",
    "    all_cards = [\n",
    "    '2s', '3s', '4s', '5s', '6s', '7s', '8s', '9s', 'Ts', 'Js', 'Qs', 'Ks', 'As',\n",
    "    '2h', '3h', '4h', '5h', '6h', '7h', '8h', '9h', 'Th', 'Jh', 'Qh', 'Kh', 'Ah',\n",
    "    '2d', '3d', '4d', '5d', '6d', '7d', '8d', '9d', 'Td', 'Jd', 'Qd', 'Kd', 'Ad',\n",
    "    '2c', '3c', '4c', '5c', '6c', '7c', '8c', '9c', 'Tc', 'Jc', 'Qc', 'Kc', 'Ac']\n",
    "\n",
    "    if(len(gost_list) == 1):\n",
    "        max_hand_list = ['2c','3c','4c','5c','7d']\n",
    "        for h in all_cards:\n",
    "            if(h in hand_list):\n",
    "                break\n",
    "            a_list = hand_list.copy()\n",
    "            a_list.append(h)\n",
    "            #print(a_list)\n",
    "            #print(max_hand_list)\n",
    "            #print(bigger_or_not(a_list,max_hand_list))\n",
    "            if(bigger_or_not(a_list,max_hand_list) and smaller_or_not(a_list,limit_hand_list)):\n",
    "                max_hand_list = a_list\n",
    "        return max_hand_list\n",
    "    elif(len(gost_list) == 2):\n",
    "        max_hand_list = ['2c','3c','4c','5c','7d']\n",
    "        for h in all_cards:\n",
    "            for h1 in all_cards:\n",
    "                a_list = hand_list.copy()\n",
    "                a_list.append(h)\n",
    "                a_list.append(h1)\n",
    "                if(bigger_or_not(a_list,max_hand_list) and smaller_or_not(a_list,limit_hand_list)):\n",
    "                    max_hand_list = a_list\n",
    "        return max_hand_list\n",
    "\n",
    "a = get_max_hand(['2c','3c','4c','6c','G'],['9c','2d','2s','5c','5d'])\n",
    "print(a)"
   ]
  },
  {
   "cell_type": "code",
   "execution_count": 112,
   "metadata": {},
   "outputs": [
    {
     "name": "stdout",
     "output_type": "stream",
     "text": [
      "['apple', 'banana', 'cherry']\n",
      "['cherry', 'apple', 'banana']\n"
     ]
    }
   ],
   "source": [
    "mylist = [\"apple\", \"banana\", \"cherry\"]\n",
    "print(mylist)\n",
    "random.shuffle(mylist)\n",
    "\n",
    "print(mylist)"
   ]
  },
  {
   "cell_type": "code",
   "execution_count": 113,
   "metadata": {},
   "outputs": [
    {
     "data": {
      "text/plain": [
       "['cherry', 'apple', 'banana']"
      ]
     },
     "execution_count": 113,
     "metadata": {},
     "output_type": "execute_result"
    }
   ],
   "source": [
    "mylist"
   ]
  },
  {
   "cell_type": "code",
   "execution_count": 4,
   "metadata": {},
   "outputs": [],
   "source": [
    "from fantasy import *\n",
    "\n",
    "hand_list = ['GG','gg','1s','1c','13h','13c','11s','9s','9h','8s','7c','7d','5s','4s','3c','2h', '6c']\n",
    "\n",
    "hand_list_2 = hand_list.copy()\n",
    "# print('input hands are:')\n",
    "# print(hand_list)\n",
    "\n",
    "aaaa = get_all_fantasy_combo(hand_list)\n",
    "# print('combo of fantasy with trip in front are below................')\n",
    "# for a in aaaa:\n",
    "    # print(a)"
   ]
  },
  {
   "cell_type": "code",
   "execution_count": 6,
   "metadata": {},
   "outputs": [
    {
     "data": {
      "text/plain": [
       "463"
      ]
     },
     "execution_count": 6,
     "metadata": {},
     "output_type": "execute_result"
    }
   ],
   "source": [
    "len(aaaa)"
   ]
  },
  {
   "cell_type": "code",
   "execution_count": 12,
   "metadata": {},
   "outputs": [
    {
     "ename": "KeyError",
     "evalue": "'1'",
     "output_type": "error",
     "traceback": [
      "\u001b[1;31m---------------------------------------------------------------------------\u001b[0m",
      "\u001b[1;31mKeyError\u001b[0m                                  Traceback (most recent call last)",
      "Cell \u001b[1;32mIn[12], line 1\u001b[0m\n\u001b[1;32m----> 1\u001b[0m [Card\u001b[39m.\u001b[39mnew(i) \u001b[39mfor\u001b[39;00m i \u001b[39min\u001b[39;00m aaaa[\u001b[39m0\u001b[39m][\u001b[39m0\u001b[39m][\u001b[39m0\u001b[39m]]\n",
      "Cell \u001b[1;32mIn[12], line 1\u001b[0m, in \u001b[0;36m<listcomp>\u001b[1;34m(.0)\u001b[0m\n\u001b[1;32m----> 1\u001b[0m [Card\u001b[39m.\u001b[39;49mnew(i) \u001b[39mfor\u001b[39;00m i \u001b[39min\u001b[39;00m aaaa[\u001b[39m0\u001b[39m][\u001b[39m0\u001b[39m][\u001b[39m0\u001b[39m]]\n",
      "File \u001b[1;32mc:\\Users\\User\\anaconda3\\envs\\tensorflow\\lib\\site-packages\\treys\\card.py:69\u001b[0m, in \u001b[0;36mCard.new\u001b[1;34m(string)\u001b[0m\n\u001b[0;32m     67\u001b[0m rank_char \u001b[39m=\u001b[39m string[\u001b[39m0\u001b[39m]\n\u001b[0;32m     68\u001b[0m suit_char \u001b[39m=\u001b[39m string[\u001b[39m1\u001b[39m]\n\u001b[1;32m---> 69\u001b[0m rank_int \u001b[39m=\u001b[39m Card\u001b[39m.\u001b[39;49mCHAR_RANK_TO_INT_RANK[rank_char]\n\u001b[0;32m     70\u001b[0m suit_int \u001b[39m=\u001b[39m Card\u001b[39m.\u001b[39mCHAR_SUIT_TO_INT_SUIT[suit_char]\n\u001b[0;32m     71\u001b[0m rank_prime \u001b[39m=\u001b[39m Card\u001b[39m.\u001b[39mPRIMES[rank_int]\n",
      "\u001b[1;31mKeyError\u001b[0m: '1'"
     ]
    }
   ],
   "source": [
    "[Card.new(i) for i in aaaa[0][0][0]]"
   ]
  },
  {
   "cell_type": "code",
   "execution_count": null,
   "metadata": {},
   "outputs": [],
   "source": [
    "# 建立 OFC evaluator 物件\n",
    "evaluator = ofc_evaluator.OFCEvaluator()\n",
    "\n",
    "# 測試資料\n",
    "hand = [\n",
    "    Card.new('Kh'),  # 前墩第一張牌\n",
    "    Card.new('Ks'),  # 前墩第二張牌\n",
    "    Card.new('Kc'),  # 中墩第一張牌\n",
    "    # Card.new('Ts'),  # 中墩第二張牌\n",
    "    # Card.new('Th'),  # 中墩第三張牌\n",
    "]\n",
    "\n",
    "# 評估牌型\n",
    "score = evaluator.evaluate([],hand)\n",
    "print(f\"牌型分數: {score}\")"
   ]
  }
 ],
 "metadata": {
  "kernelspec": {
   "display_name": "Tensorflow",
   "language": "python",
   "name": "python3"
  },
  "language_info": {
   "codemirror_mode": {
    "name": "ipython",
    "version": 3
   },
   "file_extension": ".py",
   "mimetype": "text/x-python",
   "name": "python",
   "nbconvert_exporter": "python",
   "pygments_lexer": "ipython3",
   "version": "3.9.16"
  },
  "orig_nbformat": 4
 },
 "nbformat": 4,
 "nbformat_minor": 2
}
